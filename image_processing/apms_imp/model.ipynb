{
 "cells": [
  {
   "cell_type": "code",
   "execution_count": 10,
   "metadata": {},
   "outputs": [],
   "source": [
    "import numpy as np \n",
    "import pandas as pd \n",
    "from sklearn.model_selection import train_test_split\n",
    "import xml.etree.ElementTree as ET\n",
    "import os \n",
    "import shutil\n",
    "from tqdm import tqdm\n",
    "import yaml\n",
    "import matplotlib.pyplot as plt \n",
    "import torch\n",
    "import cv2\n",
    "import pytesseract as pt"
   ]
  },
  {
   "cell_type": "code",
   "execution_count": 11,
   "metadata": {},
   "outputs": [],
   "source": [
    "filenames = []\n",
    "\n",
    "size_props = {\n",
    "    'height':[],\n",
    "    'width':[]\n",
    "}\n",
    "\n",
    "bounding_box_props = {\n",
    "    'xmin':[],\n",
    "    'ymin':[],\n",
    "    'xmax':[],\n",
    "    'ymax':[]\n",
    "}"
   ]
  },
  {
   "cell_type": "code",
   "execution_count": 12,
   "metadata": {},
   "outputs": [
    {
     "name": "stderr",
     "output_type": "stream",
     "text": [
      "100%|██████████| 433/433 [00:00<00:00, 11699.40it/s]\n"
     ]
    }
   ],
   "source": [
    "annotations_path = './dataset/annotations/'\n",
    "native_os_path_join = os.path.join\n",
    "for file in tqdm(os.listdir(annotations_path)):\n",
    "    annotation = ET.parse(os.path.join(annotations_path, file))\n",
    "    filenames.append(os.path.join(annotations_path, file))\n",
    "    size = annotation.find('size')\n",
    "    for name, prop_list in size_props.items():\n",
    "        prop_value = size.find(name).text\n",
    "        size_props[name].append(int(prop_value))\n",
    "    bounding_box = annotation.find('object').find('bndbox')\n",
    "    for name, prop_list in bounding_box_props.items():\n",
    "        prop_value = bounding_box.find(name).text\n",
    "        bounding_box_props[name].append(int(prop_value))"
   ]
  },
  {
   "cell_type": "code",
   "execution_count": 13,
   "metadata": {},
   "outputs": [],
   "source": [
    "df = pd.DataFrame({\n",
    "    'file':filenames,\n",
    "    'width':size_props['width'],\n",
    "    'height':size_props['height'],\n",
    "    'xmin':bounding_box_props['xmin'],\n",
    "    'ymin':bounding_box_props['ymin'],\n",
    "    'xmax':bounding_box_props['xmax'],\n",
    "    'ymax':bounding_box_props['ymax']\n",
    "})"
   ]
  },
  {
   "cell_type": "code",
   "execution_count": 14,
   "metadata": {},
   "outputs": [
    {
     "data": {
      "text/html": [
       "<div>\n",
       "<style scoped>\n",
       "    .dataframe tbody tr th:only-of-type {\n",
       "        vertical-align: middle;\n",
       "    }\n",
       "\n",
       "    .dataframe tbody tr th {\n",
       "        vertical-align: top;\n",
       "    }\n",
       "\n",
       "    .dataframe thead th {\n",
       "        text-align: right;\n",
       "    }\n",
       "</style>\n",
       "<table border=\"1\" class=\"dataframe\">\n",
       "  <thead>\n",
       "    <tr style=\"text-align: right;\">\n",
       "      <th></th>\n",
       "      <th>file</th>\n",
       "      <th>width</th>\n",
       "      <th>height</th>\n",
       "      <th>xmin</th>\n",
       "      <th>ymin</th>\n",
       "      <th>xmax</th>\n",
       "      <th>ymax</th>\n",
       "    </tr>\n",
       "  </thead>\n",
       "  <tbody>\n",
       "    <tr>\n",
       "      <th>0</th>\n",
       "      <td>./dataset/annotations/Cars0.xml</td>\n",
       "      <td>500</td>\n",
       "      <td>268</td>\n",
       "      <td>226</td>\n",
       "      <td>125</td>\n",
       "      <td>419</td>\n",
       "      <td>173</td>\n",
       "    </tr>\n",
       "    <tr>\n",
       "      <th>1</th>\n",
       "      <td>./dataset/annotations/Cars1.xml</td>\n",
       "      <td>400</td>\n",
       "      <td>248</td>\n",
       "      <td>134</td>\n",
       "      <td>128</td>\n",
       "      <td>262</td>\n",
       "      <td>160</td>\n",
       "    </tr>\n",
       "    <tr>\n",
       "      <th>2</th>\n",
       "      <td>./dataset/annotations/Cars10.xml</td>\n",
       "      <td>400</td>\n",
       "      <td>225</td>\n",
       "      <td>140</td>\n",
       "      <td>5</td>\n",
       "      <td>303</td>\n",
       "      <td>148</td>\n",
       "    </tr>\n",
       "    <tr>\n",
       "      <th>3</th>\n",
       "      <td>./dataset/annotations/Cars100.xml</td>\n",
       "      <td>400</td>\n",
       "      <td>267</td>\n",
       "      <td>175</td>\n",
       "      <td>114</td>\n",
       "      <td>214</td>\n",
       "      <td>131</td>\n",
       "    </tr>\n",
       "    <tr>\n",
       "      <th>4</th>\n",
       "      <td>./dataset/annotations/Cars101.xml</td>\n",
       "      <td>400</td>\n",
       "      <td>300</td>\n",
       "      <td>167</td>\n",
       "      <td>202</td>\n",
       "      <td>240</td>\n",
       "      <td>220</td>\n",
       "    </tr>\n",
       "  </tbody>\n",
       "</table>\n",
       "</div>"
      ],
      "text/plain": [
       "                                file  width  height  xmin  ymin  xmax  ymax\n",
       "0    ./dataset/annotations/Cars0.xml    500     268   226   125   419   173\n",
       "1    ./dataset/annotations/Cars1.xml    400     248   134   128   262   160\n",
       "2   ./dataset/annotations/Cars10.xml    400     225   140     5   303   148\n",
       "3  ./dataset/annotations/Cars100.xml    400     267   175   114   214   131\n",
       "4  ./dataset/annotations/Cars101.xml    400     300   167   202   240   220"
      ]
     },
     "execution_count": 14,
     "metadata": {},
     "output_type": "execute_result"
    }
   ],
   "source": [
    "df.head()"
   ]
  },
  {
   "cell_type": "code",
   "execution_count": 15,
   "metadata": {},
   "outputs": [],
   "source": [
    "df['center_x'] = (df['xmax'] + df['xmin'])/(2*df['width'])\n",
    "df['center_y'] = (df['ymax'] + df['ymin'])/(2*df['height'])\n",
    "\n",
    "df['bb_width'] = (df['xmax'] - df['xmin'])/df['width']\n",
    "df['bb_height'] = (df['ymax'] - df['ymin'])/df['height']"
   ]
  },
  {
   "cell_type": "code",
   "execution_count": 16,
   "metadata": {},
   "outputs": [
    {
     "data": {
      "text/html": [
       "<div>\n",
       "<style scoped>\n",
       "    .dataframe tbody tr th:only-of-type {\n",
       "        vertical-align: middle;\n",
       "    }\n",
       "\n",
       "    .dataframe tbody tr th {\n",
       "        vertical-align: top;\n",
       "    }\n",
       "\n",
       "    .dataframe thead th {\n",
       "        text-align: right;\n",
       "    }\n",
       "</style>\n",
       "<table border=\"1\" class=\"dataframe\">\n",
       "  <thead>\n",
       "    <tr style=\"text-align: right;\">\n",
       "      <th></th>\n",
       "      <th>file</th>\n",
       "      <th>width</th>\n",
       "      <th>height</th>\n",
       "      <th>xmin</th>\n",
       "      <th>ymin</th>\n",
       "      <th>xmax</th>\n",
       "      <th>ymax</th>\n",
       "      <th>center_x</th>\n",
       "      <th>center_y</th>\n",
       "      <th>bb_width</th>\n",
       "      <th>bb_height</th>\n",
       "    </tr>\n",
       "  </thead>\n",
       "  <tbody>\n",
       "    <tr>\n",
       "      <th>0</th>\n",
       "      <td>./dataset/annotations/Cars0.xml</td>\n",
       "      <td>500</td>\n",
       "      <td>268</td>\n",
       "      <td>226</td>\n",
       "      <td>125</td>\n",
       "      <td>419</td>\n",
       "      <td>173</td>\n",
       "      <td>0.64500</td>\n",
       "      <td>0.555970</td>\n",
       "      <td>0.3860</td>\n",
       "      <td>0.179104</td>\n",
       "    </tr>\n",
       "    <tr>\n",
       "      <th>1</th>\n",
       "      <td>./dataset/annotations/Cars1.xml</td>\n",
       "      <td>400</td>\n",
       "      <td>248</td>\n",
       "      <td>134</td>\n",
       "      <td>128</td>\n",
       "      <td>262</td>\n",
       "      <td>160</td>\n",
       "      <td>0.49500</td>\n",
       "      <td>0.580645</td>\n",
       "      <td>0.3200</td>\n",
       "      <td>0.129032</td>\n",
       "    </tr>\n",
       "    <tr>\n",
       "      <th>2</th>\n",
       "      <td>./dataset/annotations/Cars10.xml</td>\n",
       "      <td>400</td>\n",
       "      <td>225</td>\n",
       "      <td>140</td>\n",
       "      <td>5</td>\n",
       "      <td>303</td>\n",
       "      <td>148</td>\n",
       "      <td>0.55375</td>\n",
       "      <td>0.340000</td>\n",
       "      <td>0.4075</td>\n",
       "      <td>0.635556</td>\n",
       "    </tr>\n",
       "    <tr>\n",
       "      <th>3</th>\n",
       "      <td>./dataset/annotations/Cars100.xml</td>\n",
       "      <td>400</td>\n",
       "      <td>267</td>\n",
       "      <td>175</td>\n",
       "      <td>114</td>\n",
       "      <td>214</td>\n",
       "      <td>131</td>\n",
       "      <td>0.48625</td>\n",
       "      <td>0.458801</td>\n",
       "      <td>0.0975</td>\n",
       "      <td>0.063670</td>\n",
       "    </tr>\n",
       "    <tr>\n",
       "      <th>4</th>\n",
       "      <td>./dataset/annotations/Cars101.xml</td>\n",
       "      <td>400</td>\n",
       "      <td>300</td>\n",
       "      <td>167</td>\n",
       "      <td>202</td>\n",
       "      <td>240</td>\n",
       "      <td>220</td>\n",
       "      <td>0.50875</td>\n",
       "      <td>0.703333</td>\n",
       "      <td>0.1825</td>\n",
       "      <td>0.060000</td>\n",
       "    </tr>\n",
       "  </tbody>\n",
       "</table>\n",
       "</div>"
      ],
      "text/plain": [
       "                                file  width  height  xmin  ymin  xmax  ymax  \\\n",
       "0    ./dataset/annotations/Cars0.xml    500     268   226   125   419   173   \n",
       "1    ./dataset/annotations/Cars1.xml    400     248   134   128   262   160   \n",
       "2   ./dataset/annotations/Cars10.xml    400     225   140     5   303   148   \n",
       "3  ./dataset/annotations/Cars100.xml    400     267   175   114   214   131   \n",
       "4  ./dataset/annotations/Cars101.xml    400     300   167   202   240   220   \n",
       "\n",
       "   center_x  center_y  bb_width  bb_height  \n",
       "0   0.64500  0.555970    0.3860   0.179104  \n",
       "1   0.49500  0.580645    0.3200   0.129032  \n",
       "2   0.55375  0.340000    0.4075   0.635556  \n",
       "3   0.48625  0.458801    0.0975   0.063670  \n",
       "4   0.50875  0.703333    0.1825   0.060000  "
      ]
     },
     "execution_count": 16,
     "metadata": {},
     "output_type": "execute_result"
    }
   ],
   "source": [
    "df.head()"
   ]
  },
  {
   "cell_type": "code",
   "execution_count": 17,
   "metadata": {},
   "outputs": [],
   "source": [
    "# Keeping important columns only \n",
    "yolo_df = df[['file', 'center_x', 'center_y', 'bb_width', 'bb_height']]\n",
    "# Performing 70-15-15 split\n",
    "test_size = int(0.15 * len(df))\n",
    "\n",
    "df_train, df_test = train_test_split(yolo_df, test_size=test_size)\n",
    "df_train, df_val = train_test_split(df_train, test_size=test_size)"
   ]
  },
  {
   "cell_type": "code",
   "execution_count": 18,
   "metadata": {},
   "outputs": [
    {
     "name": "stdout",
     "output_type": "stream",
     "text": [
      "Made folder for train set\n",
      "Made folder for val set\n",
      "Made folder for test set\n"
     ]
    }
   ],
   "source": [
    "train_path = os.path.join('Images', 'train')\n",
    "val_path = os.path.join('Images','val')\n",
    "test_path = os.path.join('Images', 'test')\n",
    "images_path = './dataset/images/'\n",
    "\n",
    "if not os.path.exists(train_path):\n",
    "    os.makedirs(train_path)\n",
    "    print('Made folder for train set')\n",
    "\n",
    "if not os.path.exists(val_path):\n",
    "    os.makedirs(val_path)\n",
    "    print('Made folder for val set')\n",
    "\n",
    "if not os.path.exists(test_path):\n",
    "    os.makedirs(test_path)\n",
    "    print('Made folder for test set')"
   ]
  },
  {
   "cell_type": "code",
   "execution_count": 19,
   "metadata": {},
   "outputs": [
    {
     "name": "stdout",
     "output_type": "stream",
     "text": [
      "Moving images for train set\n"
     ]
    },
    {
     "name": "stderr",
     "output_type": "stream",
     "text": [
      "305it [00:01, 224.38it/s]\n"
     ]
    },
    {
     "name": "stdout",
     "output_type": "stream",
     "text": [
      "Done moving images for train set\n",
      "Moving images for val set\n"
     ]
    },
    {
     "name": "stderr",
     "output_type": "stream",
     "text": [
      "64it [00:00, 227.56it/s]\n"
     ]
    },
    {
     "name": "stdout",
     "output_type": "stream",
     "text": [
      "Done moving images for val set\n",
      "Moving images for test set\n"
     ]
    },
    {
     "name": "stderr",
     "output_type": "stream",
     "text": [
      "64it [00:00, 232.37it/s]"
     ]
    },
    {
     "name": "stdout",
     "output_type": "stream",
     "text": [
      "Done moving images for test set\n"
     ]
    },
    {
     "name": "stderr",
     "output_type": "stream",
     "text": [
      "\n"
     ]
    }
   ],
   "source": [
    "print('Moving images for train set')\n",
    "for _, row  in tqdm(df_train.iterrows()):\n",
    "    annotation_path = row['file']\n",
    "    image_name = os.path.split(annotation_path)[-1].replace('.xml','')\n",
    "    image_src = os.path.join(images_path, f'{image_name}.png')\n",
    "    image_dst = os.path.join(train_path, f'{image_name}.png')\n",
    "    shutil.copy2(image_src, image_dst)\n",
    "    label_text = f\"0 {row['center_x']} {row['center_y']} {row['bb_width']} {row['bb_height']}\"\n",
    "    with open(os.path.join(train_path, f'{image_name}.txt'), 'w') as f:\n",
    "        f.write(label_text)\n",
    "print('Done moving images for train set')\n",
    "\n",
    "print('Moving images for val set')\n",
    "for _, row  in tqdm(df_val.iterrows()):\n",
    "    annotation_path = row['file']\n",
    "    image_name = os.path.split(annotation_path)[-1].replace('.xml','')\n",
    "    image_src = os.path.join(images_path, f'{image_name}.png')\n",
    "    image_dst = os.path.join(val_path, f'{image_name}.png')\n",
    "    shutil.copy2(image_src, image_dst)\n",
    "    label_text = f\"0 {row['center_x']} {row['center_y']} {row['bb_width']} {row['bb_height']}\"\n",
    "    with open(os.path.join(val_path, f'{image_name}.txt'), 'w') as f:\n",
    "        f.write(label_text)\n",
    "print('Done moving images for val set')\n",
    "\n",
    "print('Moving images for test set')\n",
    "for _, row  in tqdm(df_test.iterrows()):\n",
    "    annotation_path = row['file']\n",
    "    image_name = os.path.split(annotation_path)[-1].replace('.xml','')\n",
    "    image_src = os.path.join(images_path, f'{image_name}.png')\n",
    "    image_dst = os.path.join(test_path, f'{image_name}.png')\n",
    "    shutil.copy2(image_src, image_dst)\n",
    "    label_text = f\"0 {row['center_x']} {row['center_y']} {row['bb_width']} {row['bb_height']}\"\n",
    "    with open(os.path.join(test_path, f'{image_name}.txt'), 'w') as f:\n",
    "        f.write(label_text)\n",
    "print('Done moving images for test set')"
   ]
  },
  {
   "cell_type": "code",
   "execution_count": 1,
   "metadata": {},
   "outputs": [
    {
     "ename": "NameError",
     "evalue": "name 'train_path' is not defined",
     "output_type": "error",
     "traceback": [
      "\u001b[1;31m---------------------------------------------------------------------------\u001b[0m",
      "\u001b[1;31mNameError\u001b[0m                                 Traceback (most recent call last)",
      "\u001b[1;32m~\\AppData\\Local\\Temp\\ipykernel_22176\\1477305313.py\u001b[0m in \u001b[0;36m<module>\u001b[1;34m\u001b[0m\n\u001b[0;32m      3\u001b[0m     \u001b[1;34m'names'\u001b[0m\u001b[1;33m:\u001b[0m\u001b[1;33m[\u001b[0m\u001b[1;34m'License Plate'\u001b[0m\u001b[1;33m]\u001b[0m\u001b[1;33m,\u001b[0m\u001b[1;33m\u001b[0m\u001b[1;33m\u001b[0m\u001b[0m\n\u001b[0;32m      4\u001b[0m     \u001b[1;34m'nc'\u001b[0m\u001b[1;33m:\u001b[0m\u001b[1;36m1\u001b[0m\u001b[1;33m,\u001b[0m\u001b[1;33m\u001b[0m\u001b[1;33m\u001b[0m\u001b[0m\n\u001b[1;32m----> 5\u001b[1;33m     \u001b[1;34m'train'\u001b[0m\u001b[1;33m:\u001b[0m\u001b[0mos\u001b[0m\u001b[1;33m.\u001b[0m\u001b[0mpath\u001b[0m\u001b[1;33m.\u001b[0m\u001b[0mabspath\u001b[0m\u001b[1;33m(\u001b[0m\u001b[0mtrain_path\u001b[0m\u001b[1;33m)\u001b[0m\u001b[1;33m,\u001b[0m\u001b[1;33m\u001b[0m\u001b[1;33m\u001b[0m\u001b[0m\n\u001b[0m\u001b[0;32m      6\u001b[0m     \u001b[1;34m'val'\u001b[0m\u001b[1;33m:\u001b[0m\u001b[0mos\u001b[0m\u001b[1;33m.\u001b[0m\u001b[0mpath\u001b[0m\u001b[1;33m.\u001b[0m\u001b[0mabspath\u001b[0m\u001b[1;33m(\u001b[0m\u001b[0mval_path\u001b[0m\u001b[1;33m)\u001b[0m\u001b[1;33m\u001b[0m\u001b[1;33m\u001b[0m\u001b[0m\n\u001b[0;32m      7\u001b[0m }\n",
      "\u001b[1;31mNameError\u001b[0m: name 'train_path' is not defined"
     ]
    }
   ],
   "source": [
    "# creating data.yaml file which will be used to train YOLO on custom data \n",
    "data = {\n",
    "    'names':['License Plate'],\n",
    "    'nc':1,\n",
    "    'train':os.path.abspath(train_path),\n",
    "    'val':os.path.abspath(val_path)\n",
    "}\n",
    "\n",
    "with open('data.yaml', 'w') as f:\n",
    "    yaml.dump(data, f)"
   ]
  },
  {
   "cell_type": "code",
   "execution_count": 3,
   "metadata": {},
   "outputs": [],
   "source": [
    "import cv2 \n",
    "import os\n",
    "import torch \n",
    "import numpy as np \n",
    "import datetime as dt \n",
    "import seaborn"
   ]
  },
  {
   "cell_type": "code",
   "execution_count": 4,
   "metadata": {},
   "outputs": [],
   "source": [
    "runs_path = os.path.join('yolov5', 'runs', 'train')\n",
    "latest_run = os.listdir(runs_path)[-1]\n",
    "path = os.path.join(runs_path, latest_run, 'weights', 'best.pt')"
   ]
  },
  {
   "cell_type": "code",
   "execution_count": 5,
   "metadata": {},
   "outputs": [
    {
     "name": "stderr",
     "output_type": "stream",
     "text": [
      "Using cache found in C:\\Users\\admin/.cache\\torch\\hub\\ultralytics_yolov5_master\n",
      "YOLOv5  2022-10-17 Python-3.7.9 torch-1.12.1+cpu CPU\n",
      "\n",
      "Fusing layers... \n",
      "Model summary: 157 layers, 7012822 parameters, 0 gradients\n",
      "Adding AutoShape... \n"
     ]
    }
   ],
   "source": [
    "model = torch.hub.load('ultralytics/yolov5', 'custom', path=path, trust_repo='check')"
   ]
  },
  {
   "cell_type": "code",
   "execution_count": 6,
   "metadata": {},
   "outputs": [],
   "source": [
    "img = cv2.imread('./front.jpg')\n",
    "results = model(img)"
   ]
  },
  {
   "cell_type": "code",
   "execution_count": 11,
   "metadata": {},
   "outputs": [
    {
     "data": {
      "text/plain": [
       "models.common.Detections"
      ]
     },
     "execution_count": 11,
     "metadata": {},
     "output_type": "execute_result"
    }
   ],
   "source": [
    "type(results)"
   ]
  },
  {
   "cell_type": "code",
   "execution_count": 8,
   "metadata": {},
   "outputs": [
    {
     "data": {
      "text/plain": [
       "True"
      ]
     },
     "execution_count": 8,
     "metadata": {},
     "output_type": "execute_result"
    }
   ],
   "source": [
    "# Getting co ordinates of license plate\n",
    "results_df = results.pandas().xyxy[0].loc[0]\n",
    "x_min = int(results_df['xmin'])\n",
    "x_max = int(results_df['xmax'])\n",
    "y_min = int(results_df['ymin'])\n",
    "y_max = int(results_df['ymax'])\n",
    "# Cropping license plate from image\n",
    "number_plate = img[y_min:y_max, x_min:x_max]\n",
    "cv2.imwrite('plate.png',number_plate)\n"
   ]
  },
  {
   "cell_type": "code",
   "execution_count": 7,
   "metadata": {},
   "outputs": [],
   "source": [
    "import matplotlib.pyplot as plt\n",
    "def plot_images(img1, img2, title1=\"\", title2=\"\"):\n",
    "    fig = plt.figure(figsize=[15,15])\n",
    "    ax1 = fig.add_subplot(121)\n",
    "    ax1.imshow(img1, cmap=\"gray\")\n",
    "    ax1.set(xticks=[], yticks=[], title=title1)\n",
    "    \n",
    "    ax2 = fig.add_subplot(122)\n",
    "    ax2.imshow(img2, cmap=\"gray\")\n",
    "    ax2.set(xticks=[], yticks=[], title=title2)"
   ]
  },
  {
   "cell_type": "code",
   "execution_count": 9,
   "metadata": {},
   "outputs": [
    {
     "data": {
      "text/plain": [
       "True"
      ]
     },
     "execution_count": 9,
     "metadata": {},
     "output_type": "execute_result"
    }
   ],
   "source": [
    "# find the white rectangle\n",
    "th = number_plate.copy()\n",
    "th[th<200] = 0\n",
    "\n",
    "bbox = np.where(th>0)\n",
    "y0 = bbox[0].min()\n",
    "y1 = bbox[0].max()\n",
    "x0 = bbox[1].min()\n",
    "x1 = bbox[1].max()\n",
    "\n",
    "# crop the region of interest (ROI)\n",
    "img = number_plate[y0:y1, x0:x1]\n",
    "cv2.imwrite('ROI.png', img)"
   ]
  },
  {
   "cell_type": "code",
   "execution_count": 12,
   "metadata": {},
   "outputs": [
    {
     "data": {
      "text/plain": [
       "True"
      ]
     },
     "execution_count": 12,
     "metadata": {},
     "output_type": "execute_result"
    }
   ],
   "source": [
    "gray = cv2.cvtColor(number_plate,cv2.COLOR_BGR2GRAY)\n",
    "# histogram equalization\n",
    "equ = cv2.equalizeHist(gray)\n",
    "# Gaussian blur\n",
    "blur = cv2.GaussianBlur(equ, (5, 5), 1)\n",
    "\n",
    "# manual thresholding\n",
    "th2 = 120 # this threshold might vary!\n",
    "equ[equ>=th2] = 255\n",
    "equ[equ<th2]  = 0\n",
    "\n",
    "cv2.imwrite('equ.png',equ)"
   ]
  },
  {
   "cell_type": "code",
   "execution_count": 13,
   "metadata": {},
   "outputs": [
    {
     "name": "stdout",
     "output_type": "stream",
     "text": [
      "51H-683.29]\n",
      "\n"
     ]
    }
   ],
   "source": [
    "# For long plate\n",
    "\n",
    "import pytesseract\n",
    "text = pytesseract.image_to_string(equ,lang='eng',config='--oem 3 --psm 6')\n",
    "\n",
    "print(text)\n"
   ]
  },
  {
   "cell_type": "code",
   "execution_count": 11,
   "metadata": {},
   "outputs": [
    {
     "data": {
      "text/plain": [
       "[([[0, 6], [585, 6], [585, 89], [0, 89]], '51H-68329', 0.745216901640605)]"
      ]
     },
     "execution_count": 11,
     "metadata": {},
     "output_type": "execute_result"
    }
   ],
   "source": [
    "# For short plate\n",
    "text = reader.readtext(equ)\n",
    "text\n",
    "#print(text[0][-2] + '-' + text[1][-2])"
   ]
  },
  {
   "cell_type": "code",
   "execution_count": 14,
   "metadata": {},
   "outputs": [
    {
     "ename": "TypeError",
     "evalue": "Couldn't build proto file into descriptor pool: duplicate file name (framework.proto)",
     "output_type": "error",
     "traceback": [
      "\u001b[1;31m---------------------------------------------------------------------------\u001b[0m",
      "\u001b[1;31mTypeError\u001b[0m                                 Traceback (most recent call last)",
      "\u001b[1;32m~\\AppData\\Local\\Temp\\ipykernel_22176\\699430747.py\u001b[0m in \u001b[0;36m<module>\u001b[1;34m\u001b[0m\n\u001b[1;32m----> 1\u001b[1;33m \u001b[1;32mfrom\u001b[0m \u001b[0mpaddleocr\u001b[0m \u001b[1;32mimport\u001b[0m \u001b[0mPaddleOCR\u001b[0m\u001b[1;33m\u001b[0m\u001b[1;33m\u001b[0m\u001b[0m\n\u001b[0m\u001b[0;32m      2\u001b[0m \u001b[1;33m\u001b[0m\u001b[0m\n\u001b[0;32m      3\u001b[0m \u001b[0mocr\u001b[0m \u001b[1;33m=\u001b[0m \u001b[0mPaddleOCR\u001b[0m\u001b[1;33m(\u001b[0m\u001b[0mlang\u001b[0m\u001b[1;33m=\u001b[0m\u001b[1;34m'en'\u001b[0m\u001b[1;33m)\u001b[0m\u001b[1;33m\u001b[0m\u001b[1;33m\u001b[0m\u001b[0m\n",
      "\u001b[1;32md:\\software\\Python37\\lib\\site-packages\\paddleocr\\__init__.py\u001b[0m in \u001b[0;36m<module>\u001b[1;34m\u001b[0m\n\u001b[0;32m     12\u001b[0m \u001b[1;31m# See the License for the specific language governing permissions and\u001b[0m\u001b[1;33m\u001b[0m\u001b[1;33m\u001b[0m\u001b[1;33m\u001b[0m\u001b[0m\n\u001b[0;32m     13\u001b[0m \u001b[1;31m# limitations under the License.\u001b[0m\u001b[1;33m\u001b[0m\u001b[1;33m\u001b[0m\u001b[1;33m\u001b[0m\u001b[0m\n\u001b[1;32m---> 14\u001b[1;33m \u001b[1;32mfrom\u001b[0m \u001b[1;33m.\u001b[0m\u001b[0mpaddleocr\u001b[0m \u001b[1;32mimport\u001b[0m \u001b[1;33m*\u001b[0m\u001b[1;33m\u001b[0m\u001b[1;33m\u001b[0m\u001b[0m\n\u001b[0m\u001b[0;32m     15\u001b[0m \u001b[1;33m\u001b[0m\u001b[0m\n\u001b[0;32m     16\u001b[0m \u001b[0m__version__\u001b[0m \u001b[1;33m=\u001b[0m \u001b[0mpaddleocr\u001b[0m\u001b[1;33m.\u001b[0m\u001b[0mVERSION\u001b[0m\u001b[1;33m\u001b[0m\u001b[1;33m\u001b[0m\u001b[0m\n",
      "\u001b[1;32md:\\software\\Python37\\lib\\site-packages\\paddleocr\\paddleocr.py\u001b[0m in \u001b[0;36m<module>\u001b[1;34m\u001b[0m\n\u001b[0;32m     19\u001b[0m \u001b[0m__dir__\u001b[0m \u001b[1;33m=\u001b[0m \u001b[0mos\u001b[0m\u001b[1;33m.\u001b[0m\u001b[0mpath\u001b[0m\u001b[1;33m.\u001b[0m\u001b[0mdirname\u001b[0m\u001b[1;33m(\u001b[0m\u001b[0m__file__\u001b[0m\u001b[1;33m)\u001b[0m\u001b[1;33m\u001b[0m\u001b[1;33m\u001b[0m\u001b[0m\n\u001b[0;32m     20\u001b[0m \u001b[1;33m\u001b[0m\u001b[0m\n\u001b[1;32m---> 21\u001b[1;33m \u001b[1;32mimport\u001b[0m \u001b[0mpaddle\u001b[0m\u001b[1;33m\u001b[0m\u001b[1;33m\u001b[0m\u001b[0m\n\u001b[0m\u001b[0;32m     22\u001b[0m \u001b[1;33m\u001b[0m\u001b[0m\n\u001b[0;32m     23\u001b[0m \u001b[0msys\u001b[0m\u001b[1;33m.\u001b[0m\u001b[0mpath\u001b[0m\u001b[1;33m.\u001b[0m\u001b[0mappend\u001b[0m\u001b[1;33m(\u001b[0m\u001b[0mos\u001b[0m\u001b[1;33m.\u001b[0m\u001b[0mpath\u001b[0m\u001b[1;33m.\u001b[0m\u001b[0mjoin\u001b[0m\u001b[1;33m(\u001b[0m\u001b[0m__dir__\u001b[0m\u001b[1;33m,\u001b[0m \u001b[1;34m''\u001b[0m\u001b[1;33m)\u001b[0m\u001b[1;33m)\u001b[0m\u001b[1;33m\u001b[0m\u001b[1;33m\u001b[0m\u001b[0m\n",
      "\u001b[1;32md:\\software\\Python37\\lib\\site-packages\\paddle\\__init__.py\u001b[0m in \u001b[0;36m<module>\u001b[1;34m\u001b[0m\n\u001b[0;32m     23\u001b[0m \u001b[1;33m\u001b[0m\u001b[0m\n\u001b[0;32m     24\u001b[0m \u001b[1;32mfrom\u001b[0m \u001b[1;33m.\u001b[0m\u001b[0mbatch\u001b[0m \u001b[1;32mimport\u001b[0m \u001b[0mbatch\u001b[0m  \u001b[1;31m# noqa: F401\u001b[0m\u001b[1;33m\u001b[0m\u001b[1;33m\u001b[0m\u001b[0m\n\u001b[1;32m---> 25\u001b[1;33m \u001b[1;32mfrom\u001b[0m \u001b[1;33m.\u001b[0m\u001b[0mframework\u001b[0m \u001b[1;32mimport\u001b[0m \u001b[0mmonkey_patch_variable\u001b[0m\u001b[1;33m\u001b[0m\u001b[1;33m\u001b[0m\u001b[0m\n\u001b[0m\u001b[0;32m     26\u001b[0m \u001b[1;32mfrom\u001b[0m \u001b[1;33m.\u001b[0m\u001b[0mframework\u001b[0m \u001b[1;32mimport\u001b[0m \u001b[0mmonkey_patch_math_varbase\u001b[0m\u001b[1;33m\u001b[0m\u001b[1;33m\u001b[0m\u001b[0m\n\u001b[0;32m     27\u001b[0m \u001b[0mmonkey_patch_variable\u001b[0m\u001b[1;33m(\u001b[0m\u001b[1;33m)\u001b[0m\u001b[1;33m\u001b[0m\u001b[1;33m\u001b[0m\u001b[0m\n",
      "\u001b[1;32md:\\software\\Python37\\lib\\site-packages\\paddle\\framework\\__init__.py\u001b[0m in \u001b[0;36m<module>\u001b[1;34m\u001b[0m\n\u001b[0;32m     15\u001b[0m \u001b[1;31m# TODO: import framework api under this directory\u001b[0m\u001b[1;33m\u001b[0m\u001b[1;33m\u001b[0m\u001b[1;33m\u001b[0m\u001b[0m\n\u001b[0;32m     16\u001b[0m \u001b[1;33m\u001b[0m\u001b[0m\n\u001b[1;32m---> 17\u001b[1;33m \u001b[1;32mfrom\u001b[0m \u001b[1;33m.\u001b[0m \u001b[1;32mimport\u001b[0m \u001b[0mrandom\u001b[0m  \u001b[1;31m# noqa: F401\u001b[0m\u001b[1;33m\u001b[0m\u001b[1;33m\u001b[0m\u001b[0m\n\u001b[0m\u001b[0;32m     18\u001b[0m \u001b[1;32mfrom\u001b[0m \u001b[1;33m.\u001b[0m\u001b[0mrandom\u001b[0m \u001b[1;32mimport\u001b[0m \u001b[0mseed\u001b[0m  \u001b[1;31m# noqa: F401\u001b[0m\u001b[1;33m\u001b[0m\u001b[1;33m\u001b[0m\u001b[0m\n\u001b[0;32m     19\u001b[0m \u001b[1;32mfrom\u001b[0m \u001b[1;33m.\u001b[0m\u001b[0mframework\u001b[0m \u001b[1;32mimport\u001b[0m \u001b[0mget_default_dtype\u001b[0m  \u001b[1;31m# noqa: F401\u001b[0m\u001b[1;33m\u001b[0m\u001b[1;33m\u001b[0m\u001b[0m\n",
      "\u001b[1;32md:\\software\\Python37\\lib\\site-packages\\paddle\\framework\\random.py\u001b[0m in \u001b[0;36m<module>\u001b[1;34m\u001b[0m\n\u001b[0;32m     14\u001b[0m \u001b[1;33m\u001b[0m\u001b[0m\n\u001b[0;32m     15\u001b[0m \u001b[1;31m# TODO: define random api\u001b[0m\u001b[1;33m\u001b[0m\u001b[1;33m\u001b[0m\u001b[1;33m\u001b[0m\u001b[0m\n\u001b[1;32m---> 16\u001b[1;33m \u001b[1;32mimport\u001b[0m \u001b[0mpaddle\u001b[0m\u001b[1;33m.\u001b[0m\u001b[0mfluid\u001b[0m \u001b[1;32mas\u001b[0m \u001b[0mfluid\u001b[0m\u001b[1;33m\u001b[0m\u001b[1;33m\u001b[0m\u001b[0m\n\u001b[0m\u001b[0;32m     17\u001b[0m \u001b[1;32mfrom\u001b[0m \u001b[0mpaddle\u001b[0m\u001b[1;33m.\u001b[0m\u001b[0mfluid\u001b[0m \u001b[1;32mimport\u001b[0m \u001b[0mcore\u001b[0m\u001b[1;33m\u001b[0m\u001b[1;33m\u001b[0m\u001b[0m\n\u001b[0;32m     18\u001b[0m \u001b[1;33m\u001b[0m\u001b[0m\n",
      "\u001b[1;32md:\\software\\Python37\\lib\\site-packages\\paddle\\fluid\\__init__.py\u001b[0m in \u001b[0;36m<module>\u001b[1;34m\u001b[0m\n\u001b[0;32m     34\u001b[0m \u001b[1;33m\u001b[0m\u001b[0m\n\u001b[0;32m     35\u001b[0m \u001b[1;31m# import all class inside framework into fluid module\u001b[0m\u001b[1;33m\u001b[0m\u001b[1;33m\u001b[0m\u001b[1;33m\u001b[0m\u001b[0m\n\u001b[1;32m---> 36\u001b[1;33m \u001b[1;32mfrom\u001b[0m \u001b[1;33m.\u001b[0m \u001b[1;32mimport\u001b[0m \u001b[0mframework\u001b[0m\u001b[1;33m\u001b[0m\u001b[1;33m\u001b[0m\u001b[0m\n\u001b[0m\u001b[0;32m     37\u001b[0m \u001b[1;32mfrom\u001b[0m \u001b[1;33m.\u001b[0m\u001b[0mframework\u001b[0m \u001b[1;32mimport\u001b[0m \u001b[1;33m*\u001b[0m\u001b[1;33m\u001b[0m\u001b[1;33m\u001b[0m\u001b[0m\n\u001b[0;32m     38\u001b[0m \u001b[1;31m# import all class inside executor into fluid module\u001b[0m\u001b[1;33m\u001b[0m\u001b[1;33m\u001b[0m\u001b[1;33m\u001b[0m\u001b[0m\n",
      "\u001b[1;32md:\\software\\Python37\\lib\\site-packages\\paddle\\fluid\\framework.py\u001b[0m in \u001b[0;36m<module>\u001b[1;34m\u001b[0m\n\u001b[0;32m     33\u001b[0m \u001b[1;32mimport\u001b[0m \u001b[0mlogging\u001b[0m\u001b[1;33m\u001b[0m\u001b[1;33m\u001b[0m\u001b[0m\n\u001b[0;32m     34\u001b[0m \u001b[1;32mfrom\u001b[0m \u001b[1;33m.\u001b[0m\u001b[1;33m.\u001b[0m \u001b[1;32mimport\u001b[0m \u001b[0mcompat\u001b[0m \u001b[1;32mas\u001b[0m \u001b[0mcpt\u001b[0m\u001b[1;33m\u001b[0m\u001b[1;33m\u001b[0m\u001b[0m\n\u001b[1;32m---> 35\u001b[1;33m \u001b[1;32mfrom\u001b[0m \u001b[1;33m.\u001b[0m\u001b[0mproto\u001b[0m \u001b[1;32mimport\u001b[0m \u001b[0mframework_pb2\u001b[0m\u001b[1;33m\u001b[0m\u001b[1;33m\u001b[0m\u001b[0m\n\u001b[0m\u001b[0;32m     36\u001b[0m \u001b[1;33m\u001b[0m\u001b[0m\n\u001b[0;32m     37\u001b[0m \u001b[1;32mfrom\u001b[0m \u001b[1;33m.\u001b[0m \u001b[1;32mimport\u001b[0m \u001b[0mcore\u001b[0m\u001b[1;33m\u001b[0m\u001b[1;33m\u001b[0m\u001b[0m\n",
      "\u001b[1;32md:\\software\\Python37\\lib\\site-packages\\paddle\\fluid\\proto\\framework_pb2.py\u001b[0m in \u001b[0;36m<module>\u001b[1;34m\u001b[0m\n\u001b[0;32m     21\u001b[0m   \u001b[0mpackage\u001b[0m\u001b[1;33m=\u001b[0m\u001b[1;34m'paddle.framework.proto'\u001b[0m\u001b[1;33m,\u001b[0m\u001b[1;33m\u001b[0m\u001b[1;33m\u001b[0m\u001b[0m\n\u001b[0;32m     22\u001b[0m   \u001b[0msyntax\u001b[0m\u001b[1;33m=\u001b[0m\u001b[1;34m'proto2'\u001b[0m\u001b[1;33m,\u001b[0m\u001b[1;33m\u001b[0m\u001b[1;33m\u001b[0m\u001b[0m\n\u001b[1;32m---> 23\u001b[1;33m   \u001b[0mserialized_pb\u001b[0m\u001b[1;33m=\u001b[0m\u001b[0m_b\u001b[0m\u001b[1;33m(\u001b[0m\u001b[1;34m'\\n\\x0f\\x66ramework.proto\\x12\\x16paddle.framework.proto\\\"\\x1d\\n\\x07Version\\x12\\x12\\n\\x07version\\x18\\x01 \\x01(\\x03:\\x01\\x30\\\"Y\\n\\x0fProcessMeshDesc\\x12\\n\\n\\x02id\\x18\\x01 \\x02(\\x05\\x12\\x11\\n\\tparent_id\\x18\\x02 \\x02(\\x05\\x12\\x10\\n\\x08topology\\x18\\x03 \\x03(\\x05\\x12\\x15\\n\\rprocess_group\\x18\\x04 \\x03(\\x05\\\"\\xfe\\x03\\n\\x06OpDesc\\x12\\x0c\\n\\x04type\\x18\\x03 \\x02(\\t\\x12\\x32\\n\\x06inputs\\x18\\x01 \\x03(\\x0b\\x32\\\".paddle.framework.proto.OpDesc.Var\\x12\\x33\\n\\x07outputs\\x18\\x02 \\x03(\\x0b\\x32\\\".paddle.framework.proto.OpDesc.Var\\x12\\x32\\n\\x05\\x61ttrs\\x18\\x04 \\x03(\\x0b\\x32#.paddle.framework.proto.OpDesc.Attr\\x12\\x18\\n\\tis_target\\x18\\x05 \\x01(\\x08:\\x05\\x66\\x61lse\\x1a\\x81\\x02\\n\\x04\\x41ttr\\x12\\x0c\\n\\x04name\\x18\\x01 \\x02(\\t\\x12.\\n\\x04type\\x18\\x02 \\x02(\\x0e\\x32 .paddle.framework.proto.AttrType\\x12\\t\\n\\x01i\\x18\\x03 \\x01(\\x05\\x12\\t\\n\\x01\\x66\\x18\\x04 \\x01(\\x02\\x12\\t\\n\\x01s\\x18\\x05 \\x01(\\t\\x12\\x0c\\n\\x04ints\\x18\\x06 \\x03(\\x05\\x12\\x0e\\n\\x06\\x66loats\\x18\\x07 \\x03(\\x02\\x12\\x0f\\n\\x07strings\\x18\\x08 \\x03(\\t\\x12\\t\\n\\x01\\x62\\x18\\n \\x01(\\x08\\x12\\r\\n\\x05\\x62ools\\x18\\x0b \\x03(\\x08\\x12\\x11\\n\\tblock_idx\\x18\\x0c \\x01(\\x05\\x12\\t\\n\\x01l\\x18\\r \\x01(\\x03\\x12\\x12\\n\\nblocks_idx\\x18\\x0e \\x03(\\x05\\x12\\r\\n\\x05longs\\x18\\x0f \\x03(\\x03\\x12\\x10\\n\\x08\\x66loat64s\\x18\\x10 \\x03(\\x01\\x1a+\\n\\x03Var\\x12\\x11\\n\\tparameter\\x18\\x01 \\x02(\\t\\x12\\x11\\n\\targuments\\x18\\x02 \\x03(\\t\\\"\\x8d\\x04\\n\\x07OpProto\\x12\\x0c\\n\\x04type\\x18\\x01 \\x02(\\t\\x12\\x33\\n\\x06inputs\\x18\\x02 \\x03(\\x0b\\x32#.paddle.framework.proto.OpProto.Var\\x12\\x34\\n\\x07outputs\\x18\\x03 \\x03(\\x0b\\x32#.paddle.framework.proto.OpProto.Var\\x12\\x33\\n\\x05\\x61ttrs\\x18\\x04 \\x03(\\x0b\\x32$.paddle.framework.proto.OpProto.Attr\\x12\\x0f\\n\\x07\\x63omment\\x18\\x05 \\x02(\\t\\x1a\\xa4\\x01\\n\\x03Var\\x12\\x0c\\n\\x04name\\x18\\x01 \\x02(\\t\\x12\\x0f\\n\\x07\\x63omment\\x18\\x02 \\x02(\\t\\x12\\x19\\n\\nduplicable\\x18\\x03 \\x01(\\x08:\\x05\\x66\\x61lse\\x12\\x1b\\n\\x0cintermediate\\x18\\x04 \\x01(\\x08:\\x05\\x66\\x61lse\\x12\\x1a\\n\\x0b\\x64ispensable\\x18\\x05 \\x01(\\x08:\\x05\\x66\\x61lse\\x12\\x14\\n\\x05\\x65xtra\\x18\\x06 \\x01(\\x08:\\x05\\x66\\x61lse\\x12\\x14\\n\\x05quant\\x18\\x07 \\x01(\\x08:\\x05\\x66\\x61lse\\x1a\\x9b\\x01\\n\\x04\\x41ttr\\x12\\x0c\\n\\x04name\\x18\\x01 \\x02(\\t\\x12.\\n\\x04type\\x18\\x02 \\x02(\\x0e\\x32 .paddle.framework.proto.AttrType\\x12\\x0f\\n\\x07\\x63omment\\x18\\x03 \\x02(\\t\\x12\\x18\\n\\tgenerated\\x18\\x04 \\x01(\\x08:\\x05\\x66\\x61lse\\x12\\x14\\n\\x05\\x65xtra\\x18\\x05 \\x01(\\x08:\\x05\\x66\\x61lse\\x12\\x14\\n\\x05quant\\x18\\x06 \\x01(\\x08:\\x05\\x66\\x61lse\\\"\\xf7\\n\\n\\x07VarType\\x12\\x32\\n\\x04type\\x18\\x01 \\x02(\\x0e\\x32$.paddle.framework.proto.VarType.Type\\x12\\x41\\n\\rselected_rows\\x18\\x02 \\x01(\\x0b\\x32*.paddle.framework.proto.VarType.TensorDesc\\x12\\x41\\n\\nlod_tensor\\x18\\x03 \\x01(\\x0b\\x32-.paddle.framework.proto.VarType.LoDTensorDesc\\x12H\\n\\x0ctensor_array\\x18\\x04 \\x01(\\x0b\\x32\\x32.paddle.framework.proto.VarType.LoDTensorArrayDesc\\x12:\\n\\x06reader\\x18\\x05 \\x01(\\x0b\\x32*.paddle.framework.proto.VarType.ReaderDesc\\x12\\x34\\n\\x05tuple\\x18\\x07 \\x01(\\x0b\\x32%.paddle.framework.proto.VarType.Tuple\\x12:\\n\\x06string\\x18\\x08 \\x01(\\x0b\\x32*.paddle.framework.proto.VarType.TensorDesc\\x12;\\n\\x07strings\\x18\\t \\x01(\\x0b\\x32*.paddle.framework.proto.VarType.TensorDesc\\x12\\x39\\n\\x05vocab\\x18\\n \\x01(\\x0b\\x32*.paddle.framework.proto.VarType.TensorDesc\\x1aS\\n\\nTensorDesc\\x12\\x37\\n\\tdata_type\\x18\\x01 \\x02(\\x0e\\x32$.paddle.framework.proto.VarType.Type\\x12\\x0c\\n\\x04\\x64ims\\x18\\x02 \\x03(\\x03\\x1a\\x61\\n\\rLoDTensorDesc\\x12:\\n\\x06tensor\\x18\\x01 \\x02(\\x0b\\x32*.paddle.framework.proto.VarType.TensorDesc\\x12\\x14\\n\\tlod_level\\x18\\x02 \\x01(\\x05:\\x01\\x30\\x1a\\x66\\n\\x12LoDTensorArrayDesc\\x12:\\n\\x06tensor\\x18\\x01 \\x02(\\x0b\\x32*.paddle.framework.proto.VarType.TensorDesc\\x12\\x14\\n\\tlod_level\\x18\\x02 \\x01(\\x05:\\x01\\x30\\x1aO\\n\\nReaderDesc\\x12\\x41\\n\\nlod_tensor\\x18\\x01 \\x03(\\x0b\\x32-.paddle.framework.proto.VarType.LoDTensorDesc\\x1a\\x43\\n\\x05Tuple\\x12:\\n\\x0c\\x65lement_type\\x18\\x01 \\x03(\\x0e\\x32$.paddle.framework.proto.VarType.Type\\\"\\x8b\\x03\\n\\x04Type\\x12\\x08\\n\\x04\\x42OOL\\x10\\x00\\x12\\t\\n\\x05INT16\\x10\\x01\\x12\\t\\n\\x05INT32\\x10\\x02\\x12\\t\\n\\x05INT64\\x10\\x03\\x12\\x08\\n\\x04\\x46P16\\x10\\x04\\x12\\x08\\n\\x04\\x46P32\\x10\\x05\\x12\\x08\\n\\x04\\x46P64\\x10\\x06\\x12\\n\\n\\x06SIZE_T\\x10\\x13\\x12\\t\\n\\x05UINT8\\x10\\x14\\x12\\x08\\n\\x04INT8\\x10\\x15\\x12\\x08\\n\\x04\\x42\\x46\\x31\\x36\\x10\\x16\\x12\\r\\n\\tCOMPLEX64\\x10\\x17\\x12\\x0e\\n\\nCOMPLEX128\\x10\\x18\\x12\\x0e\\n\\nLOD_TENSOR\\x10\\x07\\x12\\x11\\n\\rSELECTED_ROWS\\x10\\x08\\x12\\x12\\n\\x0e\\x46\\x45\\x45\\x44_MINIBATCH\\x10\\t\\x12\\x0e\\n\\nFETCH_LIST\\x10\\n\\x12\\x0f\\n\\x0bSTEP_SCOPES\\x10\\x0b\\x12\\x12\\n\\x0eLOD_RANK_TABLE\\x10\\x0c\\x12\\x14\\n\\x10LOD_TENSOR_ARRAY\\x10\\r\\x12\\x0e\\n\\nPLACE_LIST\\x10\\x0e\\x12\\n\\n\\x06READER\\x10\\x0f\\x12\\x07\\n\\x03RAW\\x10\\x11\\x12\\t\\n\\x05TUPLE\\x10\\x12\\x12\\n\\n\\x06STRING\\x10\\x19\\x12\\x0b\\n\\x07STRINGS\\x10\\x1a\\x12\\t\\n\\x05VOCAB\\x10\\x1b\\x12\\r\\n\\tFEED_LIST\\x10\\x1c\\x12\\x0b\\n\\x07PSTRING\\x10\\x1d\\\"\\xdc\\x02\\n\\x07VarDesc\\x12\\x0c\\n\\x04name\\x18\\x01 \\x02(\\t\\x12-\\n\\x04type\\x18\\x02 \\x02(\\x0b\\x32\\x1f.paddle.framework.proto.VarType\\x12\\x1a\\n\\x0bpersistable\\x18\\x03 \\x01(\\x08:\\x05\\x66\\x61lse\\x12\\x1e\\n\\x0fneed_check_feed\\x18\\x04 \\x01(\\x08:\\x05\\x66\\x61lse\\x12\\x1b\\n\\x0cis_parameter\\x18\\x05 \\x01(\\x08:\\x05\\x66\\x61lse\\x12\\x1c\\n\\rstop_gradient\\x18\\x06 \\x01(\\x08:\\x05\\x66\\x61lse\\x12\\x33\\n\\x05\\x61ttrs\\x18\\x07 \\x03(\\x0b\\x32$.paddle.framework.proto.VarDesc.Attr\\x1ah\\n\\x04\\x41ttr\\x12\\x0c\\n\\x04name\\x18\\x01 \\x02(\\t\\x12.\\n\\x04type\\x18\\x02 \\x02(\\x0e\\x32 .paddle.framework.proto.AttrType\\x12\\t\\n\\x01i\\x18\\x03 \\x01(\\x05\\x12\\t\\n\\x01s\\x18\\x04 \\x01(\\t\\x12\\x0c\\n\\x04ints\\x18\\x05 \\x03(\\x05\\\"\\xa7\\x01\\n\\tBlockDesc\\x12\\x0b\\n\\x03idx\\x18\\x01 \\x02(\\x05\\x12\\x12\\n\\nparent_idx\\x18\\x02 \\x02(\\x05\\x12-\\n\\x04vars\\x18\\x03 \\x03(\\x0b\\x32\\x1f.paddle.framework.proto.VarDesc\\x12+\\n\\x03ops\\x18\\x04 \\x03(\\x0b\\x32\\x1e.paddle.framework.proto.OpDesc\\x12\\x1d\\n\\x11\\x66orward_block_idx\\x18\\x05 \\x01(\\x05:\\x02-1\\\"\\x1c\\n\\tOpVersion\\x12\\x0f\\n\\x07version\\x18\\x01 \\x02(\\x05\\\"\\xa9\\x01\\n\\x0cOpVersionMap\\x12@\\n\\x04pair\\x18\\x01 \\x03(\\x0b\\x32\\x32.paddle.framework.proto.OpVersionMap.OpVersionPair\\x1aW\\n\\rOpVersionPair\\x12\\x0f\\n\\x07op_name\\x18\\x01 \\x02(\\t\\x12\\x35\\n\\nop_version\\x18\\x02 \\x02(\\x0b\\x32!.paddle.framework.proto.OpVersion\\\"\\xbc\\x01\\n\\x0bProgramDesc\\x12\\x31\\n\\x06\\x62locks\\x18\\x01 \\x03(\\x0b\\x32!.paddle.framework.proto.BlockDesc\\x12\\x30\\n\\x07version\\x18\\x04 \\x01(\\x0b\\x32\\x1f.paddle.framework.proto.Version\\x12<\\n\\x0eop_version_map\\x18\\x05 \\x01(\\x0b\\x32$.paddle.framework.proto.OpVersionMapJ\\x04\\x08\\x02\\x10\\x03J\\x04\\x08\\x03\\x10\\x04*\\xa2\\x01\\n\\x08\\x41ttrType\\x12\\x07\\n\\x03INT\\x10\\x00\\x12\\t\\n\\x05\\x46LOAT\\x10\\x01\\x12\\n\\n\\x06STRING\\x10\\x02\\x12\\x08\\n\\x04INTS\\x10\\x03\\x12\\n\\n\\x06\\x46LOATS\\x10\\x04\\x12\\x0b\\n\\x07STRINGS\\x10\\x05\\x12\\x0b\\n\\x07\\x42OOLEAN\\x10\\x06\\x12\\x0c\\n\\x08\\x42OOLEANS\\x10\\x07\\x12\\t\\n\\x05\\x42LOCK\\x10\\x08\\x12\\x08\\n\\x04LONG\\x10\\t\\x12\\n\\n\\x06\\x42LOCKS\\x10\\n\\x12\\t\\n\\x05LONGS\\x10\\x0b\\x12\\x0c\\n\\x08\\x46LOAT64S\\x10\\x0c'\u001b[0m\u001b[1;33m)\u001b[0m\u001b[1;33m\u001b[0m\u001b[1;33m\u001b[0m\u001b[0m\n\u001b[0m\u001b[0;32m     24\u001b[0m )\n\u001b[0;32m     25\u001b[0m \u001b[0m_sym_db\u001b[0m\u001b[1;33m.\u001b[0m\u001b[0mRegisterFileDescriptor\u001b[0m\u001b[1;33m(\u001b[0m\u001b[0mDESCRIPTOR\u001b[0m\u001b[1;33m)\u001b[0m\u001b[1;33m\u001b[0m\u001b[1;33m\u001b[0m\u001b[0m\n",
      "\u001b[1;32md:\\software\\Python37\\lib\\site-packages\\google\\protobuf\\descriptor.py\u001b[0m in \u001b[0;36m__new__\u001b[1;34m(cls, name, package, options, serialized_options, serialized_pb, dependencies, public_dependencies, syntax, pool, create_key)\u001b[0m\n\u001b[0;32m   1026\u001b[0m           \u001b[1;32mraise\u001b[0m \u001b[0mRuntimeError\u001b[0m\u001b[1;33m(\u001b[0m\u001b[1;34m'Please link in cpp generated lib for %s'\u001b[0m \u001b[1;33m%\u001b[0m \u001b[1;33m(\u001b[0m\u001b[0mname\u001b[0m\u001b[1;33m)\u001b[0m\u001b[1;33m)\u001b[0m\u001b[1;33m\u001b[0m\u001b[1;33m\u001b[0m\u001b[0m\n\u001b[0;32m   1027\u001b[0m       \u001b[1;32melif\u001b[0m \u001b[0mserialized_pb\u001b[0m\u001b[1;33m:\u001b[0m\u001b[1;33m\u001b[0m\u001b[1;33m\u001b[0m\u001b[0m\n\u001b[1;32m-> 1028\u001b[1;33m         \u001b[1;32mreturn\u001b[0m \u001b[0m_message\u001b[0m\u001b[1;33m.\u001b[0m\u001b[0mdefault_pool\u001b[0m\u001b[1;33m.\u001b[0m\u001b[0mAddSerializedFile\u001b[0m\u001b[1;33m(\u001b[0m\u001b[0mserialized_pb\u001b[0m\u001b[1;33m)\u001b[0m\u001b[1;33m\u001b[0m\u001b[1;33m\u001b[0m\u001b[0m\n\u001b[0m\u001b[0;32m   1029\u001b[0m       \u001b[1;32melse\u001b[0m\u001b[1;33m:\u001b[0m\u001b[1;33m\u001b[0m\u001b[1;33m\u001b[0m\u001b[0m\n\u001b[0;32m   1030\u001b[0m         \u001b[1;32mreturn\u001b[0m \u001b[0msuper\u001b[0m\u001b[1;33m(\u001b[0m\u001b[0mFileDescriptor\u001b[0m\u001b[1;33m,\u001b[0m \u001b[0mcls\u001b[0m\u001b[1;33m)\u001b[0m\u001b[1;33m.\u001b[0m\u001b[0m__new__\u001b[0m\u001b[1;33m(\u001b[0m\u001b[0mcls\u001b[0m\u001b[1;33m)\u001b[0m\u001b[1;33m\u001b[0m\u001b[1;33m\u001b[0m\u001b[0m\n",
      "\u001b[1;31mTypeError\u001b[0m: Couldn't build proto file into descriptor pool: duplicate file name (framework.proto)"
     ]
    }
   ],
   "source": [
    "from paddleocr import PaddleOCR\n",
    "\n",
    "ocr = PaddleOCR(lang='en')"
   ]
  },
  {
   "cell_type": "code",
   "execution_count": 19,
   "metadata": {},
   "outputs": [
    {
     "name": "stdout",
     "output_type": "stream",
     "text": [
      "[2022/10/19 15:54:36] ppocr WARNING: Since the angle classifier is not initialized, the angle classifier will not be uesd during the forward process\n",
      "[2022/10/19 15:54:36] ppocr DEBUG: dt_boxes num : 2, elapse : 0.05919623374938965\n",
      "[2022/10/19 15:54:36] ppocr DEBUG: rec_res num  : 2, elapse : 0.16908025741577148\n"
     ]
    },
    {
     "data": {
      "text/plain": [
       "'51H-68329'"
      ]
     },
     "execution_count": 19,
     "metadata": {},
     "output_type": "execute_result"
    }
   ],
   "source": [
    "results = ocr.ocr(number_plate)\n",
    "result = results[0][0][-1][0] + '-' + results[0][1][-1][0]\n",
    "result = result.replace('.','')\n",
    "result"
   ]
  }
 ],
 "metadata": {
  "kernelspec": {
   "display_name": "Python 3.7.9 64-bit",
   "language": "python",
   "name": "python3"
  },
  "language_info": {
   "codemirror_mode": {
    "name": "ipython",
    "version": 3
   },
   "file_extension": ".py",
   "mimetype": "text/x-python",
   "name": "python",
   "nbconvert_exporter": "python",
   "pygments_lexer": "ipython3",
   "version": "3.7.9"
  },
  "orig_nbformat": 4,
  "vscode": {
   "interpreter": {
    "hash": "35403f7d85034a3038a97f9ef940fd78acb5ab9de16c74e9427a3ed39abda4e4"
   }
  }
 },
 "nbformat": 4,
 "nbformat_minor": 2
}
